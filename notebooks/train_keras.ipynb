{
 "cells": [
  {
   "cell_type": "markdown",
   "metadata": {},
   "source": [
    "# Train Data using Keras Model"
   ]
  },
  {
   "cell_type": "code",
   "execution_count": 49,
   "metadata": {},
   "outputs": [
    {
     "name": "stdout",
     "output_type": "stream",
     "text": [
      "The autoreload extension is already loaded. To reload it, use:\n",
      "  %reload_ext autoreload\n"
     ]
    }
   ],
   "source": [
    "%load_ext autoreload\n",
    "%autoreload 2"
   ]
  },
  {
   "cell_type": "code",
   "execution_count": 50,
   "metadata": {},
   "outputs": [],
   "source": [
    "import sys\n",
    "import os\n",
    "sys.path.insert(0, os.path.abspath('..'))\n",
    "\n",
    "from src.models.train_model import *\n",
    "import warnings\n",
    "import matplotlib.pyplot as plt\n",
    "\n",
    "warnings.filterwarnings('ignore')"
   ]
  },
  {
   "cell_type": "markdown",
   "metadata": {},
   "source": [
    "## Test with Ordinal Encoding Data"
   ]
  },
  {
   "cell_type": "markdown",
   "metadata": {},
   "source": [
    "### Load data"
   ]
  },
  {
   "cell_type": "code",
   "execution_count": 51,
   "metadata": {},
   "outputs": [
    {
     "name": "stdout",
     "output_type": "stream",
     "text": [
      "Loading file from ../data/processed/1_1_processed_ordinal_encoding.csv\n"
     ]
    }
   ],
   "source": [
    "file_path = '../data/processed/1_1_processed_ordinal_encoding.csv'\n",
    "print(f'Loading file from {file_path}')\n",
    "\n",
    "df = pd.read_csv(file_path)\n",
    "x = df.drop(['Value', 'Wage'], axis=1)\n",
    "y = df[['Value']]"
   ]
  },
  {
   "cell_type": "code",
   "execution_count": 52,
   "metadata": {},
   "outputs": [],
   "source": [
    "x_train, x_test, y_train, y_test = train_test_split(x, y)"
   ]
  },
  {
   "cell_type": "markdown",
   "metadata": {},
   "source": [
    "## Train Regressor with Keras backend"
   ]
  },
  {
   "cell_type": "code",
   "execution_count": 58,
   "metadata": {},
   "outputs": [
    {
     "name": "stdout",
     "output_type": "stream",
     "text": [
      "Using Keras as backend\n"
     ]
    }
   ],
   "source": [
    "params = None\n",
    "try:\n",
    "    with open('best_params_xgbost.json') as fp:\n",
    "        params = json.load(fp)\n",
    "        pp.pprint(params)\n",
    "except:\n",
    "    params = {}\n",
    "\n",
    "model = Regressor(model='keras', input_shape=(x_train.shape[1],),  **params)"
   ]
  },
  {
   "cell_type": "code",
   "execution_count": 54,
   "metadata": {},
   "outputs": [
    {
     "name": "stdout",
     "output_type": "stream",
     "text": [
      "Tuning HyperParameters\n",
      "100%|██████████| 100/100 [1:09:12<00:00, 41.52s/it, best loss: 1704305688576.0]\n",
      "Best: {'batch_size': 70.0, 'epochs': 95.0, 'layers': 97.0, 'layers_activation': 'relu', 'optimizer': <class 'keras.optimizers.Adam'>, 'optimizer_parameters': {'amsgrad': False, 'beta_1': 0.9730674196056313, 'beta_2': 0.23481894702259398, 'learning_rate': 0.05814973984017747}}\n",
      "Using Keras as backend\n"
     ]
    },
    {
     "data": {
      "text/plain": [
       "<src.models.train_model.Regressor at 0x156c94c50>"
      ]
     },
     "execution_count": 54,
     "metadata": {},
     "output_type": "execute_result"
    }
   ],
   "source": [
    "print('Tuning HyperParameters')\n",
    "model.tune_hyper_parameters(x_train, y_train)"
   ]
  },
  {
   "cell_type": "code",
   "execution_count": 63,
   "metadata": {},
   "outputs": [
    {
     "name": "stdout",
     "output_type": "stream",
     "text": [
      "Training model\n"
     ]
    },
    {
     "data": {
      "text/plain": [
       "<src.models.train_model.Regressor at 0x15c59a150>"
      ]
     },
     "execution_count": 63,
     "metadata": {},
     "output_type": "execute_result"
    }
   ],
   "source": [
    "print(f'Training model')\n",
    "model.train(x_train, y_train, verbose=0)"
   ]
  },
  {
   "cell_type": "code",
   "execution_count": 82,
   "metadata": {},
   "outputs": [
    {
     "name": "stdout",
     "output_type": "stream",
     "text": [
      "Predicting test samples\n"
     ]
    }
   ],
   "source": [
    "print('Predicting test samples')\n",
    "predictions: pd.DataFrame = model.predict(x_test)"
   ]
  },
  {
   "cell_type": "code",
   "execution_count": 83,
   "metadata": {},
   "outputs": [
    {
     "name": "stdout",
     "output_type": "stream",
     "text": [
      "Prediction Finished. RMSE:\n",
      "6023559.652074167\n"
     ]
    }
   ],
   "source": [
    "print('Prediction Finished. RMSE:')\n",
    "print(mean_squared_error(y_test, predictions, squared=False))"
   ]
  },
  {
   "cell_type": "markdown",
   "metadata": {},
   "source": [
    "## Test with OneHotEncoding Data"
   ]
  },
  {
   "cell_type": "markdown",
   "metadata": {},
   "source": [
    "### Load Data"
   ]
  },
  {
   "cell_type": "code",
   "execution_count": null,
   "metadata": {},
   "outputs": [],
   "source": [
    "file_path = '../data/processed/1_1_processed_onehot_encoding.csv'\n",
    "print(f'Loading file from {file_path}')\n",
    "\n",
    "df = pd.read_csv(file_path)\n",
    "x = df.drop(['Value', 'Wage'], axis=1)\n",
    "y = df[['Value']]"
   ]
  },
  {
   "cell_type": "code",
   "execution_count": null,
   "metadata": {},
   "outputs": [],
   "source": [
    "x_train, x_test, y_train, y_test = train_test_split(x, y)"
   ]
  },
  {
   "cell_type": "markdown",
   "metadata": {},
   "source": [
    "## Train Regressor with Keras backend"
   ]
  },
  {
   "cell_type": "code",
   "execution_count": null,
   "metadata": {},
   "outputs": [],
   "source": [
    "params = None\n",
    "try:\n",
    "    with open('best_params_xgbost.json') as fp:\n",
    "        params = json.load(fp)\n",
    "        pp.pprint(params)\n",
    "except:\n",
    "    params = {}\n",
    "\n",
    "model = Regressor(model='keras', input_shape=(x_train.shape[1],),  **params)"
   ]
  },
  {
   "cell_type": "code",
   "execution_count": null,
   "metadata": {},
   "outputs": [],
   "source": [
    "print('Tuning HyperParameters')\n",
    "model.tune_hyper_parameters(x_train, y_train)"
   ]
  },
  {
   "cell_type": "code",
   "execution_count": null,
   "metadata": {},
   "outputs": [],
   "source": [
    "print(f'Training model')\n",
    "model.train(x_train, y_train)"
   ]
  },
  {
   "cell_type": "code",
   "execution_count": null,
   "metadata": {},
   "outputs": [],
   "source": [
    "print('Predicting test samples')\n",
    "predictions: pd.DataFrame = model.predict(x_test)"
   ]
  },
  {
   "cell_type": "code",
   "execution_count": null,
   "metadata": {},
   "outputs": [],
   "source": [
    "print('Prediction Finished. RMSE:')\n",
    "print(mean_squared_error(y_test, predictions, squared=False))"
   ]
  },
  {
   "cell_type": "markdown",
   "metadata": {},
   "source": [
    "## Conclusion on Keras model"
   ]
  },
  {
   "cell_type": "code",
   "execution_count": null,
   "metadata": {},
   "outputs": [],
   "source": []
  }
 ],
 "metadata": {
  "kernelspec": {
   "display_name": "Python 3",
   "language": "python",
   "name": "python3"
  },
  "language_info": {
   "codemirror_mode": {
    "name": "ipython",
    "version": 3
   },
   "file_extension": ".py",
   "mimetype": "text/x-python",
   "name": "python",
   "nbconvert_exporter": "python",
   "pygments_lexer": "ipython3",
   "version": "3.7.5"
  }
 },
 "nbformat": 4,
 "nbformat_minor": 4
}
