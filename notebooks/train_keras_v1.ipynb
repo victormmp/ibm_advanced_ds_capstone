{
 "cells": [
  {
   "cell_type": "markdown",
   "metadata": {},
   "source": [
    "# Train Data using Keras Model"
   ]
  },
  {
   "cell_type": "code",
   "execution_count": 2,
   "metadata": {},
   "outputs": [],
   "source": [
    "%load_ext autoreload\n",
    "%autoreload 2"
   ]
  },
  {
   "cell_type": "code",
   "execution_count": 3,
   "metadata": {},
   "outputs": [
    {
     "name": "stderr",
     "output_type": "stream",
     "text": [
      "Using TensorFlow backend.\n"
     ]
    }
   ],
   "source": [
    "import sys\n",
    "import os\n",
    "sys.path.insert(0, os.path.abspath('..'))\n",
    "\n",
    "from src.models.train_model import *\n",
    "import warnings\n",
    "import matplotlib.pyplot as plt\n",
    "\n",
    "warnings.filterwarnings('ignore')"
   ]
  },
  {
   "cell_type": "markdown",
   "metadata": {},
   "source": [
    "## Test with Ordinal Encoding Data"
   ]
  },
  {
   "cell_type": "markdown",
   "metadata": {},
   "source": [
    "### Load data"
   ]
  },
  {
   "cell_type": "code",
   "execution_count": 51,
   "metadata": {},
   "outputs": [
    {
     "name": "stdout",
     "output_type": "stream",
     "text": [
      "Loading file from ../data/processed/1_1_processed_ordinal_encoding.csv\n"
     ]
    }
   ],
   "source": [
    "file_path = '../data/processed/1_1_processed_ordinal_encoding.csv'\n",
    "print(f'Loading file from {file_path}')\n",
    "\n",
    "df = pd.read_csv(file_path)\n",
    "x = df.drop(['Value', 'Wage'], axis=1)\n",
    "y = df[['Value']]"
   ]
  },
  {
   "cell_type": "code",
   "execution_count": 52,
   "metadata": {},
   "outputs": [],
   "source": [
    "x_train, x_test, y_train, y_test = train_test_split(x, y)"
   ]
  },
  {
   "cell_type": "markdown",
   "metadata": {},
   "source": [
    "## Train Regressor with Keras backend"
   ]
  },
  {
   "cell_type": "code",
   "execution_count": 58,
   "metadata": {},
   "outputs": [
    {
     "name": "stdout",
     "output_type": "stream",
     "text": [
      "Using Keras as backend\n"
     ]
    }
   ],
   "source": [
    "params = None\n",
    "try:\n",
    "    with open('best_params_xgbost.json') as fp:\n",
    "        params = json.load(fp)\n",
    "        pp.pprint(params)\n",
    "except:\n",
    "    params = {}\n",
    "\n",
    "model = Regressor(model='keras', input_shape=(x_train.shape[1],),  **params)"
   ]
  },
  {
   "cell_type": "code",
   "execution_count": 54,
   "metadata": {},
   "outputs": [
    {
     "name": "stdout",
     "output_type": "stream",
     "text": [
      "Tuning HyperParameters\n",
      "100%|██████████| 100/100 [1:09:12<00:00, 41.52s/it, best loss: 1704305688576.0]\n",
      "Best: {'batch_size': 70.0, 'epochs': 95.0, 'layers': 97.0, 'layers_activation': 'relu', 'optimizer': <class 'keras.optimizers.Adam'>, 'optimizer_parameters': {'amsgrad': False, 'beta_1': 0.9730674196056313, 'beta_2': 0.23481894702259398, 'learning_rate': 0.05814973984017747}}\n",
      "Using Keras as backend\n"
     ]
    },
    {
     "data": {
      "text/plain": [
       "<src.models.train_model.Regressor at 0x156c94c50>"
      ]
     },
     "execution_count": 54,
     "metadata": {},
     "output_type": "execute_result"
    }
   ],
   "source": [
    "print('Tuning HyperParameters')\n",
    "model.tune_hyper_parameters(x_train, y_train)"
   ]
  },
  {
   "cell_type": "code",
   "execution_count": 63,
   "metadata": {},
   "outputs": [
    {
     "name": "stdout",
     "output_type": "stream",
     "text": [
      "Training model\n"
     ]
    },
    {
     "data": {
      "text/plain": [
       "<src.models.train_model.Regressor at 0x15c59a150>"
      ]
     },
     "execution_count": 63,
     "metadata": {},
     "output_type": "execute_result"
    }
   ],
   "source": [
    "print(f'Training model')\n",
    "model.train(x_train, y_train, verbose=0)"
   ]
  },
  {
   "cell_type": "code",
   "execution_count": 82,
   "metadata": {},
   "outputs": [
    {
     "name": "stdout",
     "output_type": "stream",
     "text": [
      "Predicting test samples\n"
     ]
    }
   ],
   "source": [
    "print('Predicting test samples')\n",
    "predictions: pd.DataFrame = model.predict(x_test)"
   ]
  },
  {
   "cell_type": "code",
   "execution_count": 83,
   "metadata": {},
   "outputs": [
    {
     "name": "stdout",
     "output_type": "stream",
     "text": [
      "Prediction Finished. RMSE:\n",
      "6023559.652074167\n"
     ]
    }
   ],
   "source": [
    "print('Prediction Finished. RMSE:')\n",
    "print(mean_squared_error(y_test, predictions, squared=False))"
   ]
  },
  {
   "cell_type": "markdown",
   "metadata": {},
   "source": [
    "## Test with OneHotEncoding Data"
   ]
  },
  {
   "cell_type": "markdown",
   "metadata": {},
   "source": [
    "### Load Data"
   ]
  },
  {
   "cell_type": "code",
   "execution_count": 4,
   "metadata": {},
   "outputs": [
    {
     "name": "stdout",
     "output_type": "stream",
     "text": [
      "Loading file from ../data/processed/1_1_processed_onehot_encoding.csv\n"
     ]
    }
   ],
   "source": [
    "file_path = '../data/processed/1_1_processed_onehot_encoding.csv'\n",
    "print(f'Loading file from {file_path}')\n",
    "\n",
    "df = pd.read_csv(file_path)\n",
    "x = df.drop(['Value', 'Wage'], axis=1)\n",
    "y = df[['Value']]"
   ]
  },
  {
   "cell_type": "code",
   "execution_count": 5,
   "metadata": {},
   "outputs": [],
   "source": [
    "x_train, x_test, y_train, y_test = train_test_split(x, y)"
   ]
  },
  {
   "cell_type": "markdown",
   "metadata": {},
   "source": [
    "## Train Regressor with Keras backend"
   ]
  },
  {
   "cell_type": "code",
   "execution_count": 6,
   "metadata": {},
   "outputs": [
    {
     "name": "stdout",
     "output_type": "stream",
     "text": [
      "Using Keras as backend\n"
     ]
    }
   ],
   "source": [
    "params = None\n",
    "try:\n",
    "    with open('best_params_xgbost.json') as fp:\n",
    "        params = json.load(fp)\n",
    "        pp.pprint(params)\n",
    "except:\n",
    "    params = {}\n",
    "\n",
    "model = Regressor(model='keras', input_shape=(x_train.shape[1],),  **params)"
   ]
  },
  {
   "cell_type": "code",
   "execution_count": 7,
   "metadata": {},
   "outputs": [
    {
     "name": "stdout",
     "output_type": "stream",
     "text": [
      "Tuning HyperParameters\n",
      "100%|██████████| 100/100 [3:15:31<00:00, 117.31s/it, best loss: 7013437695590.4]   \n",
      "Best: {'batch_size': 30.0, 'epochs': 56.0, 'layers': 42.0, 'layers_activation': 'relu', 'optimizer': <class 'keras.optimizers.Adam'>, 'optimizer_parameters': {'amsgrad': True, 'beta_1': 0.551064131694834, 'beta_2': 0.7586807808249071, 'learning_rate': 0.09387157346778204}}\n",
      "Using Keras as backend\n"
     ]
    },
    {
     "data": {
      "text/plain": [
       "<src.models.train_model.Regressor at 0x14d179810>"
      ]
     },
     "execution_count": 7,
     "metadata": {},
     "output_type": "execute_result"
    }
   ],
   "source": [
    "print('Tuning HyperParameters')\n",
    "model.tune_hyper_parameters(x_train, y_train)"
   ]
  },
  {
   "cell_type": "code",
   "execution_count": 8,
   "metadata": {},
   "outputs": [
    {
     "name": "stdout",
     "output_type": "stream",
     "text": [
      "Training model\n",
      "Epoch 1/56\n",
      "13619/13619 [==============================] - 1s 50us/step - loss: 36212216013142.2578 - mean_squared_error: 36212236615680.0000\n",
      "Epoch 2/56\n",
      "13619/13619 [==============================] - 1s 40us/step - loss: 31244320384278.2734 - mean_squared_error: 31244337283072.0000\n",
      "Epoch 3/56\n",
      "13619/13619 [==============================] - 1s 42us/step - loss: 26577577600698.1289 - mean_squared_error: 26577572200448.0000\n",
      "Epoch 4/56\n",
      "13619/13619 [==============================] - 1s 44us/step - loss: 23362986079919.6055 - mean_squared_error: 23362984214528.0000\n",
      "Epoch 5/56\n",
      "13619/13619 [==============================] - 1s 41us/step - loss: 21652669780105.4453 - mean_squared_error: 21652666580992.0000\n",
      "Epoch 6/56\n",
      "13619/13619 [==============================] - 1s 42us/step - loss: 20792916420701.9844 - mean_squared_error: 20792913952768.0000\n",
      "Epoch 7/56\n",
      "13619/13619 [==============================] - 1s 41us/step - loss: 20249287635006.2539 - mean_squared_error: 20249290211328.0000\n",
      "Epoch 8/56\n",
      "13619/13619 [==============================] - 1s 41us/step - loss: 19785149984519.8750 - mean_squared_error: 19785159016448.0000\n",
      "Epoch 9/56\n",
      "13619/13619 [==============================] - 1s 42us/step - loss: 19266944025056.0078 - mean_squared_error: 19266944368640.0000\n",
      "Epoch 10/56\n",
      "13619/13619 [==============================] - 1s 42us/step - loss: 18887104989999.1992 - mean_squared_error: 18887104004096.0000\n",
      "Epoch 11/56\n",
      "13619/13619 [==============================] - 1s 41us/step - loss: 18509556879335.0352 - mean_squared_error: 18509549535232.0000\n",
      "Epoch 12/56\n",
      "13619/13619 [==============================] - 1s 42us/step - loss: 18137235600853.8555 - mean_squared_error: 18137233752064.0000 0s - loss: 18539409772515.7500 - mean_squared_error: 185394129\n",
      "Epoch 13/56\n",
      "13619/13619 [==============================] - 1s 44us/step - loss: 17772171452896.6094 - mean_squared_error: 17772172017664.0000\n",
      "Epoch 14/56\n",
      "13619/13619 [==============================] - 1s 42us/step - loss: 17403078093115.3438 - mean_squared_error: 17403076411392.0000\n",
      "Epoch 15/56\n",
      "13619/13619 [==============================] - 1s 42us/step - loss: 17024723742400.8984 - mean_squared_error: 17024720830464.0000\n",
      "Epoch 16/56\n",
      "13619/13619 [==============================] - 1s 42us/step - loss: 16638518869528.7734 - mean_squared_error: 16638517706752.0000\n",
      "Epoch 17/56\n",
      "13619/13619 [==============================] - 1s 42us/step - loss: 16256890564296.1152 - mean_squared_error: 16256889520128.0000\n",
      "Epoch 18/56\n",
      "13619/13619 [==============================] - 1s 42us/step - loss: 15876569623826.2148 - mean_squared_error: 15876572053504.0000\n",
      "Epoch 19/56\n",
      "13619/13619 [==============================] - 1s 43us/step - loss: 15536735952694.4922 - mean_squared_error: 15536728571904.0000\n",
      "Epoch 20/56\n",
      "13619/13619 [==============================] - 1s 43us/step - loss: 15225999879872.8984 - mean_squared_error: 15225998802944.0000\n",
      "Epoch 21/56\n",
      "13619/13619 [==============================] - 1s 43us/step - loss: 14924501565643.3105 - mean_squared_error: 14924498599936.0000\n",
      "Epoch 22/56\n",
      "13619/13619 [==============================] - 1s 44us/step - loss: 14630254071608.5977 - mean_squared_error: 14630254542848.0000\n",
      "Epoch 23/56\n",
      "13619/13619 [==============================] - 1s 44us/step - loss: 14342010253145.6816 - mean_squared_error: 14342014631936.0000\n",
      "Epoch 24/56\n",
      "13619/13619 [==============================] - 1s 44us/step - loss: 14061749689294.3008 - mean_squared_error: 14061759627264.0000\n",
      "Epoch 25/56\n",
      "13619/13619 [==============================] - 1s 44us/step - loss: 13791564398245.5293 - mean_squared_error: 13791558369280.0000\n",
      "Epoch 26/56\n",
      "13619/13619 [==============================] - 1s 44us/step - loss: 13529770303221.5312 - mean_squared_error: 13529769836544.0000\n",
      "Epoch 27/56\n",
      "13619/13619 [==============================] - 1s 44us/step - loss: 13273917053825.3066 - mean_squared_error: 13273914146816.0000\n",
      "Epoch 28/56\n",
      "13619/13619 [==============================] - 1s 45us/step - loss: 13020942933790.4336 - mean_squared_error: 13020938895360.0000\n",
      "Epoch 29/56\n",
      "13619/13619 [==============================] - 1s 46us/step - loss: 12772205307396.4727 - mean_squared_error: 12772210376704.0000\n",
      "Epoch 30/56\n",
      "13619/13619 [==============================] - 1s 44us/step - loss: 12533984491236.5371 - mean_squared_error: 12533983346688.0000\n",
      "Epoch 31/56\n",
      "13619/13619 [==============================] - 1s 47us/step - loss: 12300542467852.3867 - mean_squared_error: 12300543066112.0000\n",
      "Epoch 32/56\n",
      "13619/13619 [==============================] - 1s 45us/step - loss: 12068831245310.2695 - mean_squared_error: 12068827693056.0000 0s - loss: 11052902450029.7148 - mean_squared_error: 1105290\n",
      "Epoch 33/56\n",
      "13619/13619 [==============================] - 1s 44us/step - loss: 11840298660513.3926 - mean_squared_error: 11840298942464.0000\n",
      "Epoch 34/56\n",
      "13619/13619 [==============================] - 1s 46us/step - loss: 11619890772588.0098 - mean_squared_error: 11619896655872.0000\n",
      "Epoch 35/56\n",
      "13619/13619 [==============================] - 1s 46us/step - loss: 11420085483400.1484 - mean_squared_error: 11420087353344.0000\n",
      "Epoch 36/56\n",
      "13619/13619 [==============================] - 1s 44us/step - loss: 11231439441289.9160 - mean_squared_error: 11231438045184.0000\n",
      "Epoch 37/56\n",
      "13619/13619 [==============================] - 1s 45us/step - loss: 11050286609624.0195 - mean_squared_error: 11050283958272.0000\n",
      "Epoch 38/56\n",
      "13619/13619 [==============================] - 1s 47us/step - loss: 10873371528784.4141 - mean_squared_error: 10873373458432.0000\n",
      "Epoch 39/56\n",
      "13619/13619 [==============================] - 1s 46us/step - loss: 10702668787590.1953 - mean_squared_error: 10702669479936.0000\n",
      "Epoch 40/56\n",
      "13619/13619 [==============================] - 1s 46us/step - loss: 10535754170803.4941 - mean_squared_error: 10535755055104.0000\n",
      "Epoch 41/56\n",
      "13619/13619 [==============================] - 1s 45us/step - loss: 10377428302551.0781 - mean_squared_error: 10377431613440.0000\n",
      "Epoch 42/56\n",
      "13619/13619 [==============================] - 1s 46us/step - loss: 10235246727709.6621 - mean_squared_error: 10235249950720.0000\n",
      "Epoch 43/56\n",
      "13619/13619 [==============================] - 1s 47us/step - loss: 10108357215504.8613 - mean_squared_error: 10108357574656.0000\n",
      "Epoch 44/56\n",
      "13619/13619 [==============================] - 1s 46us/step - loss: 9985028110241.4121 - mean_squared_error: 9985029308416.0000\n",
      "Epoch 45/56\n",
      "13619/13619 [==============================] - 1s 46us/step - loss: 9866944701211.8008 - mean_squared_error: 9866949165056.0000\n",
      "Epoch 46/56\n",
      "13619/13619 [==============================] - 1s 44us/step - loss: 9753937320841.7285 - mean_squared_error: 9753938886656.0000\n",
      "Epoch 47/56\n",
      "13619/13619 [==============================] - 1s 44us/step - loss: 9647491147507.8750 - mean_squared_error: 9647492694016.0000\n",
      "Epoch 48/56\n",
      "13619/13619 [==============================] - 1s 44us/step - loss: 9544591800342.1055 - mean_squared_error: 9544592785408.0000\n",
      "Epoch 49/56\n",
      "13619/13619 [==============================] - 1s 44us/step - loss: 9447941803564.3242 - mean_squared_error: 9447943438336.0000\n",
      "Epoch 50/56\n",
      "13619/13619 [==============================] - 1s 43us/step - loss: 9353825076180.4648 - mean_squared_error: 9353822208000.0000\n",
      "Epoch 51/56\n",
      "13619/13619 [==============================] - 1s 44us/step - loss: 9265797241884.4961 - mean_squared_error: 9265795301376.0000\n",
      "Epoch 52/56\n",
      "13619/13619 [==============================] - 1s 44us/step - loss: 9182166618435.9141 - mean_squared_error: 9182165073920.0000\n",
      "Epoch 53/56\n",
      "13619/13619 [==============================] - 1s 44us/step - loss: 9099569864769.5645 - mean_squared_error: 9099570839552.0000\n",
      "Epoch 54/56\n",
      "13619/13619 [==============================] - 1s 44us/step - loss: 9022164657527.7207 - mean_squared_error: 9022162862080.0000\n",
      "Epoch 55/56\n",
      "13619/13619 [==============================] - 1s 44us/step - loss: 8948256588070.7402 - mean_squared_error: 8948256079872.0000\n",
      "Epoch 56/56\n",
      "13619/13619 [==============================] - 1s 47us/step - loss: 8879138428092.9492 - mean_squared_error: 8879129755648.0000\n"
     ]
    },
    {
     "data": {
      "text/plain": [
       "<src.models.train_model.Regressor at 0x14d179810>"
      ]
     },
     "execution_count": 8,
     "metadata": {},
     "output_type": "execute_result"
    }
   ],
   "source": [
    "print(f'Training model')\n",
    "model.train(x_train, y_train)"
   ]
  },
  {
   "cell_type": "code",
   "execution_count": 9,
   "metadata": {},
   "outputs": [
    {
     "name": "stdout",
     "output_type": "stream",
     "text": [
      "Predicting test samples\n"
     ]
    }
   ],
   "source": [
    "print('Predicting test samples')\n",
    "predictions: pd.DataFrame = model.predict(x_test)"
   ]
  },
  {
   "cell_type": "code",
   "execution_count": 10,
   "metadata": {},
   "outputs": [
    {
     "name": "stdout",
     "output_type": "stream",
     "text": [
      "Prediction Finished. RMSE:\n",
      "2704086.7646795674\n"
     ]
    }
   ],
   "source": [
    "print('Prediction Finished. RMSE:')\n",
    "print(mean_squared_error(y_test, predictions, squared=False))"
   ]
  },
  {
   "cell_type": "markdown",
   "metadata": {},
   "source": [
    "## Conclusion on Keras model"
   ]
  },
  {
   "cell_type": "code",
   "execution_count": null,
   "metadata": {},
   "outputs": [],
   "source": []
  }
 ],
 "metadata": {
  "kernelspec": {
   "display_name": "Python 3",
   "language": "python",
   "name": "python3"
  },
  "language_info": {
   "codemirror_mode": {
    "name": "ipython",
    "version": 3
   },
   "file_extension": ".py",
   "mimetype": "text/x-python",
   "name": "python",
   "nbconvert_exporter": "python",
   "pygments_lexer": "ipython3",
   "version": "3.7.5"
  }
 },
 "nbformat": 4,
 "nbformat_minor": 4
}
